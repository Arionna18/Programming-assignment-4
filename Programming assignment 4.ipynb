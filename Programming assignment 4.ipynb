{
 "cells": [
  {
   "cell_type": "code",
   "execution_count": 6,
   "id": "dbfa2684-9f50-42f9-bba3-a9d2aac5b80a",
   "metadata": {},
   "outputs": [],
   "source": [
    "#13.1\n",
    "import datetime\n",
    "f = open(\"today.txt\", \"w\")\n",
    "properdate = datetime.datetime.now().strftime(\"%x\")\n",
    "f.write(properdate)\n",
    "f.close()\n"
   ]
  },
  {
   "cell_type": "code",
   "execution_count": 8,
   "id": "4ef35aaf-b4ac-4d46-b5e0-0e7cee6bacc7",
   "metadata": {},
   "outputs": [],
   "source": [
    "#13.2\n",
    "q = open(\"today.txt\", \"r\")\n",
    "today_str = q.read()"
   ]
  },
  {
   "cell_type": "code",
   "execution_count": null,
   "id": "079c31c2-8c2e-44b9-9225-7bd2c6fff19e",
   "metadata": {},
   "outputs": [],
   "source": [
    "#15.1"
   ]
  },
  {
   "cell_type": "code",
   "execution_count": null,
   "id": "b2df6679-7c08-49a0-800f-9c0e3d81469a",
   "metadata": {},
   "outputs": [],
   "source": []
  }
 ],
 "metadata": {
  "kernelspec": {
   "display_name": "Python 3 (ipykernel)",
   "language": "python",
   "name": "python3"
  },
  "language_info": {
   "codemirror_mode": {
    "name": "ipython",
    "version": 3
   },
   "file_extension": ".py",
   "mimetype": "text/x-python",
   "name": "python",
   "nbconvert_exporter": "python",
   "pygments_lexer": "ipython3",
   "version": "3.12.4"
  }
 },
 "nbformat": 4,
 "nbformat_minor": 5
}
